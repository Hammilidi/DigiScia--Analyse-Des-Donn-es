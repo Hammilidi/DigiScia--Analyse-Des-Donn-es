{
 "cells": [
  {
   "cell_type": "markdown",
   "id": "75431831",
   "metadata": {},
   "source": [
    "# Jeu de devinettes"
   ]
  },
  {
   "cell_type": "markdown",
   "id": "288f5bf0",
   "metadata": {},
   "source": [
    "Écrire un programme Python qui génère un nombre aléatoire entre 1 et 100 et demande à l'utilisateur de deviner ce nombre. Le programme doit indiquer si la devinette est trop haute, trop basse, ou correcte. Le programme continue jusqu'à ce que l'utilisateur devine correctement le nombre. À la fin, le programme doit afficher le nombre total de tentatives de l'utilisateur.\n",
    "\n",
    "Instructions :\n",
    "\n",
    "Utiliser la bibliothèque random pour générer un nombre aléatoire.\n",
    "Utiliser une boucle while pour continuer à demander à l'utilisateur de deviner jusqu'à ce qu'il trouve le bon nombre.\n",
    "Fournir des messages d'indication pour chaque devinette : \"Trop haut\", \"Trop bas\", ou \"Correct\".\n",
    "Compter et afficher le nombre de tentatives de l'utilisateur."
   ]
  },
  {
   "cell_type": "code",
   "execution_count": 1,
   "id": "30b46775",
   "metadata": {},
   "outputs": [
    {
     "name": "stdout",
     "output_type": "stream",
     "text": [
      "Bienvenue au jeu de devinettes !\n",
      "Je pense à un nombre entre 1 et 100.\n",
      "Devinez le nombre : 67\n",
      "Trop bas !\n",
      "Devinez le nombre : 70\n",
      "Trop bas !\n",
      "Devinez le nombre : 75\n",
      "Trop bas !\n",
      "Devinez le nombre : 80\n",
      "Trop bas !\n",
      "Devinez le nombre : 85\n",
      "Trop bas !\n",
      "Devinez le nombre : 88\n",
      "Trop bas !\n",
      "Devinez le nombre : 90\n",
      "Trop bas !\n",
      "Devinez le nombre : 91\n",
      "Trop bas !\n",
      "Devinez le nombre : 92\n",
      "Trop bas !\n",
      "Devinez le nombre : 93\n",
      "Trop bas !\n",
      "Devinez le nombre : 94\n",
      "Trop bas !\n",
      "Devinez le nombre : 95\n",
      "Trop bas !\n",
      "Devinez le nombre : 96\n",
      "Trop bas !\n",
      "Devinez le nombre : 97\n",
      "Trop bas !\n",
      "Devinez le nombre : 98\n",
      "Trop bas !\n",
      "Devinez le nombre : 99\n",
      "Correct ! Vous avez deviné le nombre en 16 tentatives.\n"
     ]
    }
   ],
   "source": [
    "import random\n",
    "\n",
    "def jeu_devinettes():\n",
    "    nombre_a_deviner = random.randint(1, 100)\n",
    "    tentatives = 0\n",
    "    devine = False\n",
    "\n",
    "    print(\"Bienvenue au jeu de devinettes !\")\n",
    "    print(\"Pensez à un nombre entre 1 et 100.\")\n",
    "\n",
    "    while not devine:\n",
    "        essai = int(input(\"Devinez le nombre : \"))\n",
    "        tentatives += 1\n",
    "\n",
    "        if essai < nombre_a_deviner:\n",
    "            print(\"Trop bas !\")\n",
    "        elif essai > nombre_a_deviner:\n",
    "            print(\"Trop haut !\")\n",
    "        else:\n",
    "            print(f\"Correct ! Vous avez deviné le nombre en {tentatives} tentatives.\")\n",
    "            devine = True\n",
    "\n",
    "jeu_devinettes()\n"
   ]
  },
  {
   "cell_type": "markdown",
   "id": "734465dd",
   "metadata": {},
   "source": [
    "# Gestionnaire de Contacts"
   ]
  },
  {
   "cell_type": "markdown",
   "id": "4b08c485",
   "metadata": {},
   "source": [
    "Écrire un programme Python qui permet de gérer une liste de contacts. Chaque contact doit avoir un nom, un numéro de téléphone et une adresse e-mail. Le programme doit permettre d'ajouter un nouveau contact, de rechercher un contact par nom, de supprimer un contact et d'afficher tous les contacts.\n",
    "\n",
    "Instructions :\n",
    "\n",
    "Utiliser un dictionnaire pour stocker les contacts, où la clé est le nom du contact et la valeur est un autre dictionnaire contenant le numéro de téléphone et l'adresse e-mail.\n",
    "Créer des fonctions pour ajouter un contact, rechercher un contact, supprimer un contact et afficher tous les contacts.\n",
    "Utiliser une boucle pour afficher un menu et permettre à l'utilisateur de choisir une action à effectuer."
   ]
  },
  {
   "cell_type": "code",
   "execution_count": 2,
   "id": "1b9071a0",
   "metadata": {},
   "outputs": [
    {
     "name": "stdout",
     "output_type": "stream",
     "text": [
      "\n",
      "Gestionnaire de Contacts\n",
      "1. Ajouter un nouveau contact\n",
      "2. Rechercher un contact par nom\n",
      "3. Supprimer un contact\n",
      "4. Afficher tous les contacts\n",
      "5. Quitter\n",
      "Choisissez une option (1-5) : 1\n",
      "Entrez le nom du contact : DigiScia\n",
      "Entrez le numéro de téléphone du contact : 06789016\n",
      "Entrez l'adresse e-mail du contact : hfjerrkn@gmail.com\n",
      "Contact DigiScia ajouté avec succès.\n",
      "\n",
      "Gestionnaire de Contacts\n",
      "1. Ajouter un nouveau contact\n",
      "2. Rechercher un contact par nom\n",
      "3. Supprimer un contact\n",
      "4. Afficher tous les contacts\n",
      "5. Quitter\n",
      "Choisissez une option (1-5) : 5\n",
      "Au revoir!\n"
     ]
    }
   ],
   "source": [
    "def afficher_menu():\n",
    "    print(\"\\nGestionnaire de Contacts\")\n",
    "    print(\"1. Ajouter un nouveau contact\")\n",
    "    print(\"2. Rechercher un contact par nom\")\n",
    "    print(\"3. Supprimer un contact\")\n",
    "    print(\"4. Afficher tous les contacts\")\n",
    "    print(\"5. Quitter\")\n",
    "\n",
    "def ajouter_contact(contacts):\n",
    "    nom = input(\"Entrez le nom du contact : \")\n",
    "    numero = input(\"Entrez le numéro de téléphone du contact : \")\n",
    "    email = input(\"Entrez l'adresse e-mail du contact : \")\n",
    "    contacts[nom] = {'numéro': numero, 'email': email}\n",
    "    print(f\"Contact {nom} ajouté avec succès.\")\n",
    "\n",
    "def rechercher_contact(contacts):\n",
    "    nom = input(\"Entrez le nom du contact à rechercher : \")\n",
    "    if nom in contacts:\n",
    "        print(f\"Nom : {nom}\") \n",
    "        print(f\"Numéro : {contacts[nom]['numéro']}\")\n",
    "        print(f\"E-mail : {contacts[nom]['email']}\")\n",
    "    else:\n",
    "        print(\"Contact non trouvé.\")\n",
    "\n",
    "def supprimer_contact(contacts):\n",
    "    nom = input(\"Entrez le nom du contact à supprimer : \")\n",
    "    if nom in contacts:\n",
    "        del contacts[nom]\n",
    "        print(f\"Contact {nom} supprimé avec succès.\")\n",
    "    else:\n",
    "        print(\"Contact non trouvé.\")\n",
    "\n",
    "        \n",
    "def afficher_contacts(contacts):\n",
    "    if contacts:\n",
    "        for nom, details in contacts.items():\n",
    "            print(f\"Nom : {nom}\")\n",
    "            print(f\"Numéro : {details['numéro']}\")\n",
    "            print(f\"E-mail : {details['email']}\")\n",
    "            print(\"-\" * 20)\n",
    "    else:\n",
    "        print(\"Aucun contact à afficher.\")\n",
    "        \n",
    "        \n",
    "\n",
    "def gestionnaire_contacts():\n",
    "    contacts = {}\n",
    "    while True:\n",
    "        afficher_menu()\n",
    "        choix = input(\"Choisissez une option (1-5) : \")\n",
    "        \n",
    "        if choix == '1':\n",
    "            ajouter_contact(contacts)\n",
    "        elif choix == '2':\n",
    "            rechercher_contact(contacts)\n",
    "        elif choix == '3':\n",
    "            supprimer_contact(contacts)\n",
    "        elif choix == '4':\n",
    "            afficher_contacts(contacts)\n",
    "        elif choix == '5':\n",
    "            print(\"Au revoir!\")\n",
    "            break\n",
    "        else:\n",
    "            print(\"Option invalide, veuillez réessayer.\")\n",
    "\n",
    "gestionnaire_contacts()\n"
   ]
  },
  {
   "cell_type": "code",
   "execution_count": null,
   "id": "c45677e1",
   "metadata": {},
   "outputs": [],
   "source": []
  }
 ],
 "metadata": {
  "kernelspec": {
   "display_name": "Python 3 (ipykernel)",
   "language": "python",
   "name": "python3"
  },
  "language_info": {
   "codemirror_mode": {
    "name": "ipython",
    "version": 3
   },
   "file_extension": ".py",
   "mimetype": "text/x-python",
   "name": "python",
   "nbconvert_exporter": "python",
   "pygments_lexer": "ipython3",
   "version": "3.11.5"
  }
 },
 "nbformat": 4,
 "nbformat_minor": 5
}
