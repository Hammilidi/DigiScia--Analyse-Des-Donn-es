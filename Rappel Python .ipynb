{
 "cells": [
  {
   "cell_type": "markdown",
   "id": "b6174c3b",
   "metadata": {},
   "source": [
    "# BootCamp : Analyse De Donnees avec Python"
   ]
  },
  {
   "cell_type": "markdown",
   "id": "8cf78334",
   "metadata": {},
   "source": [
    "L'analyse des données consiste à appliquer des méthodes mathématiques aux données afin de découvrir des informations cachées (insights) en vue de prendre des décisions éclairées. Cette tâche au sein d'une entreprise est celle du data analyst. Durant cette formation, nous aborderons ensemble les concepts clés pour faire de vous des data analysts ou du moins vous mettre sur la voie du métier de data analyst. À l'issue de la formation, vous serez capables de :\n",
    "  - Programmer en Python\n",
    "  - Réaliser une analyse exploratoire des données ou EDA (Exploratory Data Analysis)\n",
    "  - Nettoyer des données\n",
    "  - Appliquer des méthodes statistiques et les interpréter\n",
    "  - Faire de la visualisation de données et les interpréter\n",
    "\n",
    "Si comme moi, vous êtes impatient de commencer, allons-y !!!"
   ]
  },
  {
   "cell_type": "markdown",
   "id": "ee37aad8",
   "metadata": {},
   "source": [
    "# PARTIE I : Python"
   ]
  },
  {
   "cell_type": "markdown",
   "id": "917087df",
   "metadata": {},
   "source": [
    "Python est un language de programmation :\n",
    "- Populaire\n",
    "- Open source \n",
    "- Polyvalent\n",
    "- Simple syntaxiquement\n",
    "- Interprété"
   ]
  },
  {
   "cell_type": "markdown",
   "id": "c23979d3",
   "metadata": {},
   "source": [
    "## Les types de variables"
   ]
  },
  {
   "cell_type": "markdown",
   "id": "3a97dfd9",
   "metadata": {},
   "source": [
    "Les variables sont des conteneurs de donnees. Il en existe plusieurs types :\n",
    "- Int (entiers)\n",
    "- Float (decimaux)\n",
    "- Str (chaines des caracteres)\n",
    "- Bool (True/False)\n"
   ]
  },
  {
   "cell_type": "code",
   "execution_count": 16,
   "id": "88f3ec5b",
   "metadata": {},
   "outputs": [
    {
     "name": "stdout",
     "output_type": "stream",
     "text": [
      "34\n",
      "5.7\n",
      "DigiScia\n",
      "True\n",
      "193.8\n"
     ]
    }
   ],
   "source": [
    "# Int\n",
    "a = 34\n",
    "print(a)\n",
    "\n",
    "# Float\n",
    "b = 5.7\n",
    "print(b)\n",
    "\n",
    "# String \n",
    "nom_de_entreprise = \"DigiScia\"\n",
    "print(c)\n",
    "\n",
    "# Boolean\n",
    "d = True \n",
    "print(d)\n",
    "\n",
    "# Afficher\n",
    "print(a*b)\n",
    "\n",
    "# # Fonction Type()\n",
    "# type(c)"
   ]
  },
  {
   "cell_type": "markdown",
   "id": "45b09ec6",
   "metadata": {},
   "source": [
    "## Convention de nommage de vos variables"
   ]
  },
  {
   "cell_type": "markdown",
   "id": "583a6293",
   "metadata": {},
   "source": [
    "Un nom de variable :\n",
    "\n",
    "- Ne peut pas commencer par un chiffre : vous pouvez mettre des chiffres à l'intérieur ou à la fin du nom de la variable, mais pas au début\n",
    "- Ne peut également pas contenir d'espaces\n",
    "- Ne peut contenir que des caractères alpha-numériques, donc toutes les lettres majuscules ou minuscules de A à Z et les nombres de 0 à 9 (A-z, 0-9), ainsi que le tiret du bas \"_\" que l'on utilise la plupart du temps pour indiquer un espace entre deux mots."
   ]
  },
  {
   "cell_type": "markdown",
   "id": "d0fa2c61",
   "metadata": {},
   "source": [
    "## Le Casting"
   ]
  },
  {
   "cell_type": "markdown",
   "id": "6d76ed80",
   "metadata": {},
   "source": [
    "Le casting en des termes plus simples, c'est la conversion d'un type de donnees vers un autre. Par exemple, un int vers un float et vice versa ou d'un int vers un str etc. Il existe des fonctions pour passer d'un types a un autre."
   ]
  },
  {
   "cell_type": "code",
   "execution_count": 5,
   "id": "296d2055",
   "metadata": {},
   "outputs": [
    {
     "data": {
      "text/plain": [
       "set()"
      ]
     },
     "execution_count": 5,
     "metadata": {},
     "output_type": "execute_result"
    }
   ],
   "source": [
    "# Int\n",
    "age = \"27\"\n",
    "salaire = 37000\n",
    "int(age)\n",
    "\n",
    "# Float\n",
    "float(age)\n",
    "\n",
    "# String\n",
    "str(salaire)\n",
    "\n",
    "# Boolean\n",
    "bool()\n",
    "\n",
    "# Liste\n",
    "list()\n",
    "\n",
    "# Dictionnaire\n",
    "dict()\n",
    "\n",
    "# Tuple\n",
    "tuple()\n",
    "\n",
    "# Set\n",
    "set()"
   ]
  },
  {
   "cell_type": "markdown",
   "id": "1cf42680",
   "metadata": {},
   "source": [
    "### Les structures conditionnelles et Entree Utilisateur"
   ]
  },
  {
   "cell_type": "markdown",
   "id": "4220b552",
   "metadata": {},
   "source": [
    "Les structures conditionnelles rendent votre programme plus intelligent. Au lieu de produire toujours le meme resultat, dorenavant, il s'executera sous des conditions. Il sera plus adaptable."
   ]
  },
  {
   "cell_type": "code",
   "execution_count": 22,
   "id": "594552f2",
   "metadata": {},
   "outputs": [
    {
     "name": "stdout",
     "output_type": "stream",
     "text": [
      "Entre l'age :13\n",
      "Vous aurez 13 ans l'an prochain\n"
     ]
    }
   ],
   "source": [
    "# note = int(input(\"Entrez votre moyenne: \"))\n",
    "# if note >=10 and note<12:\n",
    "#     print(\" Validee !\")\n",
    "# elif note>=12 and note<=14:\n",
    "#     print(\" C'est bien !\")\n",
    "# else:\n",
    "#     print(\"Non Valide\")\n",
    "\n",
    "age = int(input(\"Entre l'age :\"))\n",
    "age_ = age +1\n",
    "print(\"Vous aurez \"+str(age)+\" ans l'an prochain\")"
   ]
  },
  {
   "cell_type": "markdown",
   "id": "9a0f89b7",
   "metadata": {},
   "source": [
    "## Les boucles "
   ]
  },
  {
   "cell_type": "markdown",
   "id": "c267cace",
   "metadata": {},
   "source": [
    "Les boucles vous permettent d'automatiser des taches repetitives. En python, il existe deux facons de faire des boucles :\n",
    "- for\n",
    "- while"
   ]
  },
  {
   "cell_type": "code",
   "execution_count": 29,
   "id": "ce7f79d4",
   "metadata": {
    "scrolled": true
   },
   "outputs": [
    {
     "name": "stdout",
     "output_type": "stream",
     "text": [
      "5x0=0\n",
      "5x2=10\n",
      "5x4=20\n",
      "5x6=30\n",
      "5x8=40\n",
      "5x10=50\n"
     ]
    }
   ],
   "source": [
    "# Table de multiplication avec la boucle for\n",
    "for i in range(0, 11, 5):\n",
    "    print(f\"5x{i}={5*i}\")\n",
    "\n",
    "# Table de multplication avec la boucle while\n",
    "# i=0\n",
    "# while i <=10:\n",
    "#     print(f\"5x{i}={5*i}\")\n",
    "#     i=i+1\n",
    "    \n",
    "    "
   ]
  },
  {
   "cell_type": "markdown",
   "id": "42ead088",
   "metadata": {},
   "source": [
    "## Les listes"
   ]
  },
  {
   "cell_type": "markdown",
   "id": "9003977b",
   "metadata": {},
   "source": [
    "Les listes sont utilisées pour stocker plusieurs éléments dans une seule variable.\n",
    "\n",
    "Les listes sont l'un des 4 types de données intégrés dans Python utilisés pour stocker des collections de données, les 3 autres sont Tuple , Set et Dictionary , tous avec des qualités et une utilisation différentes.\n",
    "\n",
    "Les listes sont créées à l'aide de crochets"
   ]
  },
  {
   "cell_type": "code",
   "execution_count": 1,
   "id": "3f056c44",
   "metadata": {},
   "outputs": [
    {
     "name": "stdout",
     "output_type": "stream",
     "text": [
      "3\n",
      "Damiba\n"
     ]
    }
   ],
   "source": [
    "# Creer une liste\n",
    "etudiants = [\"Fidelis\", \"Damiba\", \"Naomi\"]\n",
    "\n",
    "# Acceder a une liste ou la modifier \n",
    "etudiants[0] = \"Angelina\"\n",
    "\n",
    "# Taille de la liste\n",
    "print(len(etudiants))\n",
    "\n",
    "# Ajouter un element \n",
    "etudiants.append(\"Marc\")\n",
    "\n",
    "# Ajouter plusieurs elements a la fois\n",
    "etudiants.extend([\"Jeff\", \"Maurice\"])\n",
    "\n",
    "# Inserer un element\n",
    "etudiants.insert(2, \"Godfrey\")\n",
    "\n",
    "# Supprimer un element\n",
    "etudiants.pop(3)\n",
    "\n",
    "# Vider la liste\n",
    "etudiants.clear()\n",
    "\n",
    "# Ordonner une liste\n",
    "etudiants.sort()\n",
    "\n",
    "# Les slicers\n",
    "etudiants[2:5]\n",
    "\n",
    "# Les listes chainees \n",
    "students = [[\"Fidelis\", \"Naomi\", \"Damiba\"], [12, 15, 14]]\n",
    "print(students[0][2])"
   ]
  },
  {
   "cell_type": "markdown",
   "id": "2650bdb1",
   "metadata": {},
   "source": [
    "## Les dictionnaires"
   ]
  },
  {
   "cell_type": "markdown",
   "id": "9ffb943b",
   "metadata": {},
   "source": [
    "Les dictionnaires sont utilisés pour stocker des valeurs de données dans des paires clé:valeur.\n",
    "\n",
    "Un dictionnaire est une collection ordonnée*, modifiable et ne permettant pas les doublons.\n",
    "\n",
    "À partir de la version 3.7 de Python, les dictionnaires sont ordonnés . Dans Python 3.6 et les versions antérieures, les dictionnaires ne sont pas ordonnés "
   ]
  },
  {
   "cell_type": "code",
   "execution_count": 21,
   "id": "1a6ece9c",
   "metadata": {},
   "outputs": [
    {
     "name": "stdout",
     "output_type": "stream",
     "text": [
      "dict_keys(['Burkina Faso', 'Benin', 'Togo', \"Cote d'Ivoire\"])\n",
      "dict_values(['Ouagadougou', 'Porto Novo', 'Lome', 'Yamoussokro'])\n",
      "dict_items([('Burkina Faso', 'Ouagadougou'), ('Benin', 'Porto Novo'), ('Togo', 'Lome'), (\"Cote d'Ivoire\", 'Yamoussokro')])\n",
      "{'Burkina Faso': 'Ouaga', 'Benin': 'PortoNovo', 'Togo': 'Lome', \"Cote d'Ivoire\": 'Yamoussokro', 'Senegal': 'Dakar'}\n",
      "{'Burkina Faso': 'Ouaga', 'Benin': 'PortoNovo', \"Cote d'Ivoire\": 'Yamoussokro'}\n",
      "{}\n"
     ]
    }
   ],
   "source": [
    "# Creer un dictionnaire\n",
    "capitales = {\"Burkina Faso\": \"Ouagadougou\", \"Benin\":\"Porto Novo\", \"Togo\": \"Lome\", \"Cote d'Ivoire\": \"Yamoussokro\"}\n",
    "\n",
    "# Acceder a un element\n",
    "capitales[\"Burkina Faso\"]\n",
    "capitales[\"Togo\"]\n",
    "capitales.get(\"Benin\")\n",
    "\n",
    "# Acceder aux clefs, valeurs, paires\n",
    "print(capitales.keys())\n",
    "print(capitales.values())\n",
    "print(capitales.items())\n",
    "\n",
    "# for x in capitales.values():\n",
    "#     print(x)\n",
    "\n",
    "\n",
    "# Ajouter ou mettre a jour un element \n",
    "capitales.update({\"Burkina Faso\": \"Ouaga\"})\n",
    "capitales.update({\"Senegal\":\"Dakar\"})\n",
    "capitales[\"Benin\"] = \"PortoNovo\"\n",
    "print(capitales)\n",
    "\n",
    "# Supprimer un element\n",
    "capitales.pop(\"Togo\")\n",
    "capitales.popitem()\n",
    "print(capitales)\n",
    "\n",
    "\n",
    "# Vider le dictionnaire\n",
    "capitales.clear()\n",
    "print(capitales)\n"
   ]
  },
  {
   "cell_type": "markdown",
   "id": "f446ded2",
   "metadata": {},
   "source": [
    "## Les tuples"
   ]
  },
  {
   "cell_type": "markdown",
   "id": "c028506c",
   "metadata": {},
   "source": [
    "Un tuple est une collection ordonnée et immuable .\n",
    "\n",
    "Les tuples sont écrits entre parenthèses."
   ]
  },
  {
   "cell_type": "code",
   "execution_count": 27,
   "id": "8a043990",
   "metadata": {},
   "outputs": [
    {
     "data": {
      "text/plain": [
       "tuple"
      ]
     },
     "execution_count": 27,
     "metadata": {},
     "output_type": "execute_result"
    }
   ],
   "source": [
    "# Creer un tuple\n",
    "utilisateur = (\"Will\", \"SMITH\", 48, \"Male\", \"Acteur\")\n",
    "\n",
    "# Acceder a un tuple\n",
    "utilisateur[2]\n",
    "\n",
    "# convertir\n",
    "utilisateur_liste = list(utilisateur)\n",
    "type(utilisateur_liste)\n",
    "\n",
    "type(tuple(utilisateur_liste))"
   ]
  },
  {
   "cell_type": "markdown",
   "id": "91007a19",
   "metadata": {},
   "source": [
    "## Les Sets"
   ]
  },
  {
   "cell_type": "markdown",
   "id": "37a0228c",
   "metadata": {},
   "source": [
    "Un ensemble est une collection qui n'est pas ordonnée , immuable et non indexée .\n",
    "\n",
    "Les éléments définis ne sont pas modifiables, mais vous pouvez supprimer des éléments et en ajouter de nouveaux."
   ]
  },
  {
   "cell_type": "code",
   "execution_count": 3,
   "id": "5ea4ec03",
   "metadata": {},
   "outputs": [
    {
     "name": "stdout",
     "output_type": "stream",
     "text": [
      "48\n",
      "SMITH\n",
      "Acteur\n",
      "Will\n",
      "Male\n",
      "{48, 'SMITH', '3 x Oscar', 'Married', 'Acteur', 'Will', 'Male'}\n"
     ]
    }
   ],
   "source": [
    "# Creer un set\n",
    "thisset = {\"Will\", \"SMITH\", 48, \"Male\", \"Acteur\"}\n",
    "\n",
    "# You cannot access items in a set by referring to an index or a key.\n",
    "for x in thisset:\n",
    "    print(x)\n",
    "# Once a set is created, you cannot change its items, but you can add new items.\n",
    "thisset.add('Married')\n",
    "thisset.add('3 x Oscar')\n",
    "\n",
    "print(thisset)\n"
   ]
  },
  {
   "cell_type": "markdown",
   "id": "f0101624",
   "metadata": {},
   "source": [
    "## Methodes de chaines de Caracteres "
   ]
  },
  {
   "cell_type": "markdown",
   "id": "f12b2008",
   "metadata": {},
   "source": [
    "Nous allons decouvrir ensemble quelques methodes qui permettent de manipuler les chaines de caracteres. \n",
    "\n",
    "Jetez un coup d'eoil au fichier pdf string methods pour avoir une liste plus ou moins exhaustive des methodes de manipulationd es chaines de caracteres "
   ]
  },
  {
   "cell_type": "code",
   "execution_count": 10,
   "id": "a146871a",
   "metadata": {},
   "outputs": [
    {
     "data": {
      "text/plain": [
       "True"
      ]
     },
     "execution_count": 10,
     "metadata": {},
     "output_type": "execute_result"
    }
   ],
   "source": [
    "texte = \"Bonjour\"\n",
    "\n",
    "texte.isalpha()"
   ]
  },
  {
   "cell_type": "code",
   "execution_count": 26,
   "id": "cc064c90",
   "metadata": {},
   "outputs": [
    {
     "name": "stdout",
     "output_type": "stream",
     "text": [
      "pip 23.2.1 from C:\\Users\\user\\anaconda3\\Lib\\site-packages\\pip (python 3.11)\n",
      "\n"
     ]
    }
   ],
   "source": [
    "!pip --version"
   ]
  },
  {
   "cell_type": "code",
   "execution_count": 27,
   "id": "d6070f92",
   "metadata": {},
   "outputs": [
    {
     "name": "stdout",
     "output_type": "stream",
     "text": [
      "Package                       Version\n",
      "----------------------------- ---------------\n",
      "absl-py                       2.1.0\n",
      "aiobotocore                   2.5.0\n",
      "aiofiles                      22.1.0\n",
      "aiohttp                       3.8.5\n",
      "aioitertools                  0.7.1\n",
      "aiosignal                     1.2.0\n",
      "aiosqlite                     0.18.0\n",
      "alabaster                     0.7.12\n",
      "anaconda-anon-usage           0.4.2\n",
      "anaconda-catalogs             0.2.0\n",
      "anaconda-client               1.12.1\n",
      "anaconda-cloud-auth           0.1.3\n",
      "anaconda-navigator            2.5.0\n",
      "anaconda-project              0.11.1\n",
      "anyio                         3.5.0\n",
      "appdirs                       1.4.4\n",
      "argon2-cffi                   21.3.0\n",
      "argon2-cffi-bindings          21.2.0\n",
      "arrow                         1.2.3\n",
      "astroid                       2.14.2\n",
      "astropy                       5.1\n",
      "asttokens                     2.2.1\n",
      "astunparse                    1.6.3\n",
      "async-timeout                 4.0.2\n",
      "atomicwrites                  1.4.0\n",
      "attrs                         23.2.0\n",
      "Automat                       20.2.0\n",
      "autopep8                      1.6.0\n",
      "Babel                         2.11.0\n",
      "backcall                      0.2.0\n",
      "backports.functools-lru-cache 1.6.4\n",
      "backports.tempfile            1.0\n",
      "backports.weakref             1.0.post1\n",
      "bcrypt                        3.2.0\n",
      "beautifulsoup4                4.12.2\n",
      "binaryornot                   0.4.4\n",
      "black                         0.0\n",
      "bleach                        4.1.0\n",
      "blis                          0.7.11\n",
      "blurhash                      1.1.4\n",
      "bokeh                         3.2.1\n",
      "boltons                       23.0.0\n",
      "botocore                      1.29.76\n",
      "Bottleneck                    1.3.5\n",
      "brotlipy                      0.7.0\n",
      "bs4                           0.0.1\n",
      "caer                          2.0.8\n",
      "catalogue                     2.0.10\n",
      "certifi                       2023.7.22\n",
      "cffi                          1.15.1\n",
      "chardet                       4.0.0\n",
      "charset-normalizer            2.0.4\n",
      "click                         8.0.4\n",
      "cloudpathlib                  0.18.1\n",
      "cloudpickle                   2.2.1\n",
      "clyent                        1.2.2\n",
      "colorama                      0.4.6\n",
      "colorcet                      3.0.1\n",
      "comm                          0.1.2\n",
      "conda                         23.7.4\n",
      "conda-build                   3.26.1\n",
      "conda-content-trust           0.2.0\n",
      "conda_index                   0.3.0\n",
      "conda-libmamba-solver         23.7.0\n",
      "conda-pack                    0.6.0\n",
      "conda-package-handling        2.2.0\n",
      "conda_package_streaming       0.9.0\n",
      "conda-repo-cli                1.0.75\n",
      "conda-token                   0.4.0\n",
      "conda-verify                  3.4.2\n",
      "confection                    0.1.5\n",
      "constantly                    15.1.0\n",
      "contourpy                     1.0.5\n",
      "cookiecutter                  1.7.3\n",
      "cryptography                  41.0.3\n",
      "cssselect                     1.1.0\n",
      "cycler                        0.11.0\n",
      "cymem                         2.0.8\n",
      "cytoolz                       0.12.0\n",
      "daal4py                       2023.1.1\n",
      "dask                          2023.6.0\n",
      "datasets                      2.12.0\n",
      "datashader                    0.15.2\n",
      "datashape                     0.5.4\n",
      "DateTime                      5.2\n",
      "debugpy                       1.6.6\n",
      "decorator                     5.1.1\n",
      "defusedxml                    0.7.1\n",
      "diff-match-patch              20200713\n",
      "dill                          0.3.6\n",
      "distributed                   2023.6.0\n",
      "docopt                        0.6.2\n",
      "docstring-to-markdown         0.11\n",
      "docutils                      0.18.1\n",
      "efficientnet-pytorch          0.7.1\n",
      "einops                        0.7.0\n",
      "en-core-web-md                3.7.1\n",
      "en-core-web-sm                3.7.1\n",
      "entrypoints                   0.4\n",
      "et-xmlfile                    1.1.0\n",
      "executing                     1.2.0\n",
      "fastjsonschema                2.16.2\n",
      "filelock                      3.9.0\n",
      "flake8                        6.0.0\n",
      "Flask                         2.2.2\n",
      "flatbuffers                   24.3.7\n",
      "fonttools                     4.25.0\n",
      "frozenlist                    1.3.3\n",
      "fsspec                        2023.4.0\n",
      "future                        0.18.3\n",
      "gast                          0.5.4\n",
      "gensim                        4.3.0\n",
      "geojson                       2.5.0\n",
      "glob2                         0.7\n",
      "google-pasta                  0.2.0\n",
      "greenlet                      2.0.1\n",
      "grpcio                        1.62.1\n",
      "h11                           0.14.0\n",
      "h5py                          3.10.0\n",
      "hdfs                          2.7.3\n",
      "HeapDict                      1.0.1\n",
      "holoviews                     1.17.1\n",
      "huggingface-hub               0.15.1\n",
      "hvplot                        0.8.4\n",
      "hyperlink                     21.0.0\n",
      "idna                          3.4\n",
      "imagecodecs                   2023.1.23\n",
      "imageio                       2.26.0\n",
      "imagesize                     1.4.1\n",
      "imbalanced-learn              0.10.1\n",
      "importlib-metadata            6.0.0\n",
      "incremental                   21.3.0\n",
      "inflection                    0.5.1\n",
      "iniconfig                     1.1.1\n",
      "intake                        0.6.8\n",
      "intervaltree                  3.1.0\n",
      "ipykernel                     6.20.2\n",
      "ipython                       8.9.0\n",
      "ipython-genutils              0.2.0\n",
      "ipywidgets                    8.0.4\n",
      "isort                         5.9.3\n",
      "itemadapter                   0.3.0\n",
      "itemloaders                   1.0.4\n",
      "itsdangerous                  2.0.1\n",
      "jaraco.classes                3.2.1\n",
      "jedi                          0.18.2\n",
      "jellyfish                     1.0.1\n",
      "Jinja2                        3.1.2\n",
      "jinja2-time                   0.2.0\n",
      "jmespath                      0.10.0\n",
      "joblib                        1.2.0\n",
      "json5                         0.9.6\n",
      "jsonpatch                     1.32\n",
      "jsonpointer                   2.1\n",
      "jsonschema                    4.17.3\n",
      "jupyter                       1.0.0\n",
      "jupyter_client                8.0.2\n",
      "jupyter-console               6.6.3\n",
      "jupyter_core                  5.2.0\n",
      "jupyter-events                0.6.3\n",
      "jupyter-server                1.23.4\n",
      "jupyter_server_fileid         0.9.0\n",
      "jupyter_server_ydoc           0.8.0\n",
      "jupyter-ydoc                  0.2.4\n",
      "jupyterlab                    3.6.3\n",
      "jupyterlab-pygments           0.1.2\n",
      "jupyterlab_server             2.22.0\n",
      "jupyterlab-widgets            3.0.5\n",
      "kaleido                       0.2.1\n",
      "keras                         3.1.1\n",
      "keyring                       23.13.1\n",
      "kiwisolver                    1.4.4\n",
      "langcodes                     3.4.0\n",
      "language_data                 1.2.0\n",
      "lazy_loader                   0.2\n",
      "lazy-object-proxy             1.6.0\n",
      "libarchive-c                  2.9\n",
      "libclang                      18.1.1\n",
      "libmambapy                    1.5.1\n",
      "linkify-it-py                 2.0.0\n",
      "llvmlite                      0.40.0\n",
      "lmdb                          1.4.1\n",
      "locket                        1.0.0\n",
      "lxml                          4.9.3\n",
      "lz4                           4.3.2\n",
      "marisa-trie                   1.2.0\n",
      "Markdown                      3.4.1\n",
      "markdown-it-py                2.2.0\n",
      "MarkupSafe                    2.1.1\n",
      "Mastodon.py                   1.8.1\n",
      "matplotlib                    3.7.2\n",
      "matplotlib-inline             0.1.6\n",
      "mccabe                        0.7.0\n",
      "mdit-py-plugins               0.3.0\n",
      "mdurl                         0.1.0\n",
      "menuinst                      1.4.19\n",
      "mistune                       0.8.4\n",
      "mkl-fft                       1.3.8\n",
      "mkl-random                    1.2.4\n",
      "mkl-service                   2.4.0\n",
      "ml-dtypes                     0.3.2\n",
      "more-itertools                8.12.0\n",
      "MouseInfo                     0.1.3\n",
      "mpmath                        1.3.0\n",
      "mrjob                         0.7.4\n",
      "msgpack                       1.0.3\n",
      "multidict                     6.0.2\n",
      "multipledispatch              0.6.0\n",
      "multiprocess                  0.70.14\n",
      "munkres                       1.1.4\n",
      "murmurhash                    1.0.10\n",
      "mypy                          1.10.0\n",
      "mypy-extensions               1.0.0\n",
      "namex                         0.0.7\n",
      "navigator-updater             0.4.0\n",
      "nbclassic                     0.5.5\n",
      "nbclient                      0.5.13\n",
      "nbconvert                     6.5.4\n",
      "nbformat                      5.9.2\n",
      "nest-asyncio                  1.5.6\n",
      "networkx                      3.1\n",
      "nltk                          3.8.1\n",
      "notebook                      6.5.4\n",
      "notebook_shim                 0.2.2\n",
      "numba                         0.57.1\n",
      "numexpr                       2.8.4\n",
      "numpy                         1.24.3\n",
      "numpydoc                      1.5.0\n",
      "opencv-contrib-python         4.10.0.84\n",
      "opencv-python                 4.9.0.80\n",
      "openpyxl                      3.0.10\n",
      "opt-einsum                    3.3.0\n",
      "optree                        0.10.0\n",
      "outcome                       1.3.0.post0\n",
      "packaging                     23.1\n",
      "pandas                        2.0.3\n",
      "pandocfilters                 1.5.0\n",
      "panel                         1.2.3\n",
      "param                         1.13.0\n",
      "paramiko                      2.8.1\n",
      "parsel                        1.6.0\n",
      "parso                         0.8.3\n",
      "partd                         1.4.0\n",
      "pathlib                       1.0.1\n",
      "pathspec                      0.10.3\n",
      "patsy                         0.5.3\n",
      "pep8                          1.7.1\n",
      "pexpect                       4.8.0\n",
      "pickleshare                   0.7.5\n",
      "Pillow                        9.4.0\n",
      "pip                           23.2.1\n",
      "pkce                          1.0.3\n",
      "pkginfo                       1.9.6\n",
      "platformdirs                  2.6.2\n",
      "plotly                        5.9.0\n",
      "pluggy                        1.0.0\n",
      "ply                           3.11\n",
      "poyo                          0.5.0\n",
      "preshed                       3.0.9\n",
      "prometheus-client             0.14.1\n",
      "prompt-toolkit                3.0.36\n",
      "Protego                       0.1.16\n",
      "protobuf                      4.25.3\n",
      "psutil                        5.9.4\n",
      "ptyprocess                    0.7.0\n",
      "pure-eval                     0.2.2\n",
      "py-cpuinfo                    8.0.0\n",
      "pyarrow                       11.0.0\n",
      "pyasn1                        0.4.8\n",
      "pyasn1-modules                0.2.8\n",
      "PyAutoGUI                     0.9.54\n",
      "pycodestyle                   2.10.0\n",
      "pycosat                       0.6.4\n",
      "pycparser                     2.21\n",
      "pyct                          0.5.0\n",
      "pycurl                        7.45.2\n",
      "pydantic                      1.10.8\n",
      "PyDispatcher                  2.0.5\n",
      "pydocstyle                    6.3.0\n",
      "pyerfa                        2.0.0\n",
      "pyflakes                      3.0.1\n",
      "pygame                        2.5.2\n",
      "PyGetWindow                   0.0.9\n",
      "Pygments                      2.14.0\n",
      "PyJWT                         2.4.0\n",
      "pylint                        2.16.2\n",
      "pylint-venv                   2.3.0\n",
      "pyls-spyder                   0.4.0\n",
      "PyMsgBox                      1.0.9\n",
      "PyNaCl                        1.5.0\n",
      "pyodbc                        4.0.34\n",
      "pyOpenSSL                     23.2.0\n",
      "pyowm                         3.3.0\n",
      "pyparsing                     3.0.9\n",
      "pyperclip                     1.8.2\n",
      "pypng                         0.20220715.0\n",
      "PyQt5                         5.15.7\n",
      "PyQt5-sip                     12.11.0\n",
      "PyQtWebEngine                 5.15.4\n",
      "PyRect                        0.2.0\n",
      "pyrsistent                    0.18.0\n",
      "PyScreeze                     0.1.30\n",
      "PySocks                       1.7.1\n",
      "pytest                        7.4.0\n",
      "python-dateutil               2.8.2\n",
      "python-dotenv                 0.21.0\n",
      "python-json-logger            2.0.7\n",
      "python-lsp-black              1.2.1\n",
      "python-lsp-jsonrpc            1.0.0\n",
      "python-lsp-server             1.7.2\n",
      "python-magic-bin              0.4.14\n",
      "python-slugify                5.0.2\n",
      "python-snappy                 0.6.1\n",
      "pytoolconfig                  1.2.5\n",
      "pytweening                    1.2.0\n",
      "pytz                          2023.3.post1\n",
      "pyviz-comms                   2.3.0\n",
      "PyWavelets                    1.4.1\n",
      "pywhatkit                     5.4\n",
      "pywin32                       305\n",
      "pywin32-ctypes                0.2.0\n",
      "pywinpty                      2.0.10\n",
      "PyYAML                        6.0\n",
      "pyzmq                         25.0.0\n",
      "QDarkStyle                    3.0.2\n",
      "qrcode                        7.4.2\n",
      "qstylizer                     0.2.2\n",
      "QtAwesome                     1.2.2\n",
      "qtconsole                     5.4.2\n",
      "QtPy                          2.2.0\n",
      "queuelib                      1.5.0\n",
      "regex                         2022.7.9\n",
      "requests                      2.31.0\n",
      "requests-file                 1.5.1\n",
      "requests-toolbelt             1.0.0\n",
      "responses                     0.13.3\n",
      "rfc3339-validator             0.1.4\n",
      "rfc3986-validator             0.1.1\n",
      "rich                          13.7.1\n",
      "rope                          1.7.0\n",
      "Rtree                         1.0.1\n",
      "ruamel.yaml                   0.17.21\n",
      "ruamel-yaml-conda             0.17.21\n",
      "s3fs                          2023.4.0\n",
      "safetensors                   0.3.2\n",
      "scikit-image                  0.20.0\n",
      "scikit-learn                  1.3.0\n",
      "scikit-learn-intelex          20230426.121932\n",
      "scipy                         1.11.1\n",
      "Scrapy                        2.8.0\n",
      "seaborn                       0.12.2\n",
      "selenium                      4.21.0\n",
      "Send2Trash                    1.8.0\n",
      "service-identity              18.1.0\n",
      "setuptools                    68.0.0\n",
      "shellingham                   1.5.4\n",
      "sip                           6.6.2\n",
      "six                           1.16.0\n",
      "smart-open                    5.2.1\n",
      "sniffio                       1.3.1\n",
      "snowballstemmer               2.2.0\n",
      "sortedcontainers              2.4.0\n",
      "soupsieve                     2.4\n",
      "spacy                         3.7.5\n",
      "spacy-legacy                  3.0.12\n",
      "spacy-loggers                 1.0.5\n",
      "Sphinx                        5.0.2\n",
      "sphinxcontrib-applehelp       1.0.2\n",
      "sphinxcontrib-devhelp         1.0.2\n",
      "sphinxcontrib-htmlhelp        2.0.0\n",
      "sphinxcontrib-jsmath          1.0.1\n",
      "sphinxcontrib-qthelp          1.0.3\n",
      "sphinxcontrib-serializinghtml 1.1.5\n",
      "spyder                        5.4.3\n",
      "spyder-kernels                2.4.4\n",
      "SQLAlchemy                    1.4.39\n",
      "srsly                         2.4.8\n",
      "stack-data                    0.6.2\n",
      "statsmodels                   0.14.0\n",
      "sympy                         1.11.1\n",
      "tables                        3.8.0\n",
      "tabulate                      0.8.10\n",
      "TBB                           0.2\n",
      "tblib                         1.7.0\n",
      "tenacity                      8.2.2\n",
      "tensorboard                   2.16.2\n",
      "tensorboard-data-server       0.7.2\n",
      "tensorflow                    2.16.1\n",
      "tensorflow-intel              2.16.1\n",
      "tensorflow-io-gcs-filesystem  0.31.0\n",
      "termcolor                     2.4.0\n",
      "terminado                     0.17.1\n",
      "text-unidecode                1.3\n",
      "textdistance                  4.2.1\n",
      "thinc                         8.2.5\n",
      "threadpoolctl                 2.2.0\n",
      "three-merge                   0.1.1\n",
      "tifffile                      2023.4.12\n",
      "tinycss2                      1.2.1\n",
      "tldextract                    3.2.0\n",
      "tokenizers                    0.13.2\n",
      "toml                          0.10.2\n",
      "tomlkit                       0.11.1\n",
      "toolz                         0.12.0\n",
      "torch                         2.2.1\n",
      "torchvision                   0.17.1\n",
      "tornado                       6.2\n",
      "tqdm                          4.65.0\n",
      "traitlets                     5.9.0\n",
      "transformers                  4.32.1\n",
      "trio                          0.25.1\n",
      "trio-websocket                0.11.1\n",
      "Twisted                       22.10.0\n",
      "twisted-iocpsupport           1.0.2\n",
      "typer                         0.12.3\n",
      "typing_extensions             4.10.0\n",
      "tzdata                        2023.3\n",
      "uc-micro-py                   1.0.1\n",
      "ujson                         5.4.0\n",
      "Unidecode                     1.2.0\n",
      "urllib3                       1.26.16\n",
      "vit-pytorch                   1.6.5\n",
      "w3lib                         1.21.0\n",
      "wasabi                        1.1.3\n",
      "watchdog                      2.1.6\n",
      "wcwidth                       0.2.6\n",
      "weasel                        0.4.1\n",
      "webencodings                  0.5.1\n",
      "websocket-client              0.58.0\n",
      "Werkzeug                      2.2.3\n",
      "whatthepatch                  1.0.2\n",
      "wheel                         0.38.4\n",
      "widgetsnbextension            4.0.5\n",
      "wikipedia                     1.4.0\n",
      "win-inet-pton                 1.1.0\n",
      "wrapt                         1.14.1\n",
      "wsproto                       1.2.0\n",
      "xarray                        2023.6.0\n",
      "xlwings                       0.29.1\n",
      "xxhash                        2.0.2\n",
      "xyzservices                   2022.9.0\n",
      "y-py                          0.5.9\n",
      "yapf                          0.31.0\n",
      "yarl                          1.8.1\n",
      "ypy-websocket                 0.8.2\n",
      "zict                          2.2.0\n",
      "zipp                          3.11.0\n",
      "zope.interface                5.4.0\n",
      "zstandard                     0.19.0\n"
     ]
    }
   ],
   "source": [
    "!pip list"
   ]
  },
  {
   "cell_type": "markdown",
   "id": "96562730",
   "metadata": {},
   "source": [
    "## Les fonctions"
   ]
  },
  {
   "cell_type": "markdown",
   "id": "fefe6436",
   "metadata": {},
   "source": [
    "Une fonction est un bloc de code (qu'on nomme) qui ne s'exécute que lorsqu'il est appelé.\n",
    "\n",
    "Vous pouvez transmettre des données, appelées paramètres, à une fonction.\n",
    "\n",
    "Une fonction peut renvoyer des données en guise de résultat."
   ]
  },
  {
   "cell_type": "code",
   "execution_count": 35,
   "id": "35831c62",
   "metadata": {},
   "outputs": [
    {
     "data": {
      "text/plain": [
       "6"
      ]
     },
     "execution_count": 35,
     "metadata": {},
     "output_type": "execute_result"
    }
   ],
   "source": [
    "def addition(number1, number2):\n",
    "    result = number1+number2\n",
    "    return result\n",
    "\n",
    "num1 = input(\"Entrer un premier nombre: \")\n",
    "num2 = input(\"Entrer un deuxieme nombre: \")\n",
    "\n",
    "if num1.isdigit() == True and num2.isdigit() == True:\n",
    "    resultat = addition(int(num1), int(num2))\n",
    "    if resultat < 50:\n",
    "        print(\"Vous n'avez pas la moyenne !\")\n",
    "    else :\n",
    "        print(\"Felicitation ! Vous avez la moyenne ! \")\n",
    "else:\n",
    "    print(\"Erreur ! Entrer des valeurs numeriques\")\n",
    "    num1 = int(input(\"Entrer un premier nombre: \"))\n",
    "    num2 = int(input(\"Entrer un deuxieme nombre: \"))\n",
    "    "
   ]
  },
  {
   "cell_type": "markdown",
   "id": "950cfa1d",
   "metadata": {},
   "source": [
    "## Les modules "
   ]
  },
  {
   "cell_type": "markdown",
   "id": "dc11d569",
   "metadata": {},
   "source": [
    "Considérez un module comme étant identique à une bibliothèque de code.\n",
    "\n",
    "Un fichier contenant un ensemble de fonctions que vous souhaitez inclure dans votre application.\n",
    "\n",
    "Pour créer un module, enregistrez simplement le code souhaité dans un fichier avec l'extension de fichier .py"
   ]
  },
  {
   "cell_type": "code",
   "execution_count": 4,
   "id": "0c75bdf1",
   "metadata": {},
   "outputs": [
    {
     "name": "stdout",
     "output_type": "stream",
     "text": [
      "7\n",
      "6\n"
     ]
    }
   ],
   "source": [
    "import modulesTest as m\n",
    "from modulesTest import addition, soustraction\n",
    "\n",
    "\n",
    "print(addition(2, 5))\n",
    "print(soustraction(8, 2))\n"
   ]
  },
  {
   "cell_type": "code",
   "execution_count": 36,
   "id": "963a4b79",
   "metadata": {
    "scrolled": true
   },
   "outputs": [
    {
     "name": "stdout",
     "output_type": "stream",
     "text": [
      "Requirement already satisfied: pandas in c:\\users\\user\\anaconda3\\lib\\site-packages (2.0.3)\n",
      "Requirement already satisfied: python-dateutil>=2.8.2 in c:\\users\\user\\anaconda3\\lib\\site-packages (from pandas) (2.8.2)\n",
      "Requirement already satisfied: pytz>=2020.1 in c:\\users\\user\\anaconda3\\lib\\site-packages (from pandas) (2023.3.post1)\n",
      "Requirement already satisfied: tzdata>=2022.1 in c:\\users\\user\\anaconda3\\lib\\site-packages (from pandas) (2023.3)\n",
      "Requirement already satisfied: numpy>=1.21.0 in c:\\users\\user\\anaconda3\\lib\\site-packages (from pandas) (1.24.3)\n",
      "Requirement already satisfied: six>=1.5 in c:\\users\\user\\anaconda3\\lib\\site-packages (from python-dateutil>=2.8.2->pandas) (1.16.0)\n"
     ]
    }
   ],
   "source": [
    "# Installer un module python prefait\n",
    "\n",
    "!pip install pandas"
   ]
  },
  {
   "cell_type": "code",
   "execution_count": null,
   "id": "a8bdffee",
   "metadata": {},
   "outputs": [],
   "source": []
  }
 ],
 "metadata": {
  "kernelspec": {
   "display_name": "Python 3 (ipykernel)",
   "language": "python",
   "name": "python3"
  },
  "language_info": {
   "codemirror_mode": {
    "name": "ipython",
    "version": 3
   },
   "file_extension": ".py",
   "mimetype": "text/x-python",
   "name": "python",
   "nbconvert_exporter": "python",
   "pygments_lexer": "ipython3",
   "version": "3.11.5"
  }
 },
 "nbformat": 4,
 "nbformat_minor": 5
}
